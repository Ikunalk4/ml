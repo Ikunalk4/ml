{
  "nbformat": 4,
  "nbformat_minor": 0,
  "metadata": {
    "colab": {
      "name": "8_logistic Regression(multi classif).ipynb",
      "provenance": [],
      "authorship_tag": "ABX9TyMUmtKeBBu1LdeW3/R83pLI",
      "include_colab_link": true
    },
    "kernelspec": {
      "name": "python3",
      "display_name": "Python 3"
    },
    "language_info": {
      "name": "python"
    }
  },
  "cells": [
    {
      "cell_type": "markdown",
      "metadata": {
        "id": "view-in-github",
        "colab_type": "text"
      },
      "source": [
        "<a href=\"https://colab.research.google.com/github/Ikunalk4/ml/blob/main/8_logistic_Regression(multi_classif).ipynb\" target=\"_parent\"><img src=\"https://colab.research.google.com/assets/colab-badge.svg\" alt=\"Open In Colab\"/></a>"
      ]
    },
    {
      "cell_type": "code",
      "metadata": {
        "id": "s203fgyT0_Ba"
      },
      "source": [
        "%matplotlib inline\n",
        "import matplotlib.pyplot as plt\n",
        "\n",
        "from sklearn.datasets import load_digits\n",
        "digits = load_digits()"
      ],
      "execution_count": 5,
      "outputs": []
    },
    {
      "cell_type": "code",
      "metadata": {
        "colab": {
          "base_uri": "https://localhost:8080/"
        },
        "id": "DCJ1jK951i6N",
        "outputId": "3bbc06d0-c619-4394-ffa9-41638d65ac6e"
      },
      "source": [
        "dir(digits)"
      ],
      "execution_count": 3,
      "outputs": [
        {
          "output_type": "execute_result",
          "data": {
            "text/plain": [
              "['DESCR', 'data', 'images', 'target', 'target_names']"
            ]
          },
          "metadata": {},
          "execution_count": 3
        }
      ]
    },
    {
      "cell_type": "code",
      "metadata": {
        "colab": {
          "base_uri": "https://localhost:8080/"
        },
        "id": "f7UAntMf1sfm",
        "outputId": "735febd7-c98a-4f4d-ea39-e7134a3f62dd"
      },
      "source": [
        "digits.images[0]"
      ],
      "execution_count": 6,
      "outputs": [
        {
          "output_type": "execute_result",
          "data": {
            "text/plain": [
              "array([[ 0.,  0.,  5., 13.,  9.,  1.,  0.,  0.],\n",
              "       [ 0.,  0., 13., 15., 10., 15.,  5.,  0.],\n",
              "       [ 0.,  3., 15.,  2.,  0., 11.,  8.,  0.],\n",
              "       [ 0.,  4., 12.,  0.,  0.,  8.,  8.,  0.],\n",
              "       [ 0.,  5.,  8.,  0.,  0.,  9.,  8.,  0.],\n",
              "       [ 0.,  4., 11.,  0.,  1., 12.,  7.,  0.],\n",
              "       [ 0.,  2., 14.,  5., 10., 12.,  0.,  0.],\n",
              "       [ 0.,  0.,  6., 13., 10.,  0.,  0.,  0.]])"
            ]
          },
          "metadata": {},
          "execution_count": 6
        }
      ]
    },
    {
      "cell_type": "code",
      "metadata": {
        "colab": {
          "base_uri": "https://localhost:8080/",
          "height": 1000
        },
        "id": "rmHp2MhO16Ks",
        "outputId": "5bce8e82-ca9b-4119-d2b7-4745592f4999"
      },
      "source": [
        "plt.gray()\n",
        "for i in range(5):\n",
        "  plt.matshow(digits.images[i])"
      ],
      "execution_count": 10,
      "outputs": [
        {
          "output_type": "display_data",
          "data": {
            "text/plain": [
              "<Figure size 432x288 with 0 Axes>"
            ]
          },
          "metadata": {}
        },
        {
          "output_type": "display_data",
          "data": {
            "image/png": "[encoded data removed]",
            "text/plain": [
              "<Figure size 288x288 with 1 Axes>"
            ]
          },
          "metadata": {
            "needs_background": "light"
          }
        },
        {
          "output_type": "display_data",
          "data": {
            "image/png": "[encoded data removed]",
            "text/plain": [
              "<Figure size 288x288 with 1 Axes>"
            ]
          },
          "metadata": {
            "needs_background": "light"
          }
        },
        {
          "output_type": "display_data",
          "data": {
            "image/png": "[encoded data removed]",
            "text/plain": [
              "<Figure size 288x288 with 1 Axes>"
            ]
          },
          "metadata": {
            "needs_background": "light"
          }
        },
        {
          "output_type": "display_data",
          "data": {
            "image/png": "[encoded data removed]",
            "text/plain": [
              "<Figure size 288x288 with 1 Axes>"
            ]
          },
          "metadata": {
            "needs_background": "light"
          }
        },
        {
          "output_type": "display_data",
          "data": {
            "image/png": "[encoded data removed]",
            "text/plain": [
              "<Figure size 288x288 with 1 Axes>"
            ]
          },
          "metadata": {
            "needs_background": "light"
          }
        }
      ]
    },
    {
      "cell_type": "code",
      "metadata": {
        "colab": {
          "base_uri": "https://localhost:8080/"
        },
        "id": "H2we8Q5p2Q-R",
        "outputId": "3a09fa8a-2051-4f4c-d9cb-67c7b9346e35"
      },
      "source": [
        "digits.target[:5]"
      ],
      "execution_count": 11,
      "outputs": [
        {
          "output_type": "execute_result",
          "data": {
            "text/plain": [
              "array([0, 1, 2, 3, 4])"
            ]
          },
          "metadata": {},
          "execution_count": 11
        }
      ]
    },
    {
      "cell_type": "code",
      "metadata": {
        "id": "Oob4pwL82sgA"
      },
      "source": [
        "from sklearn.linear_model import LogisticRegression\n",
        "model = LogisticRegression()"
      ],
      "execution_count": 12,
      "outputs": []
    },
    {
      "cell_type": "code",
      "metadata": {
        "id": "VWBKWKE224mI"
      },
      "source": [
        "from sklearn.model_selection import train_test_split\n",
        "x_train,x_test,y_train,y_test = train_test_split(digits.data,digits.target,test_size=0.2)"
      ],
      "execution_count": 13,
      "outputs": []
    },
    {
      "cell_type": "code",
      "metadata": {
        "colab": {
          "base_uri": "https://localhost:8080/"
        },
        "id": "0x2X-VB73T35",
        "outputId": "9f216453-5382-4bcc-98dc-4cdce63df0d2"
      },
      "source": [
        "len(x_train)"
      ],
      "execution_count": 14,
      "outputs": [
        {
          "output_type": "execute_result",
          "data": {
            "text/plain": [
              "1437"
            ]
          },
          "metadata": {},
          "execution_count": 14
        }
      ]
    },
    {
      "cell_type": "code",
      "metadata": {
        "colab": {
          "base_uri": "https://localhost:8080/"
        },
        "id": "ijOtGQoa3Wu-",
        "outputId": "ea98b346-002f-45c4-a656-bc63c48dae77"
      },
      "source": [
        "len(x_test)"
      ],
      "execution_count": 15,
      "outputs": [
        {
          "output_type": "execute_result",
          "data": {
            "text/plain": [
              "360"
            ]
          },
          "metadata": {},
          "execution_count": 15
        }
      ]
    },
    {
      "cell_type": "code",
      "metadata": {
        "colab": {
          "base_uri": "https://localhost:8080/"
        },
        "id": "bNguUI7-3ZNw",
        "outputId": "6ab8455b-3673-4f1a-bc47-ca614aca23b8"
      },
      "source": [
        "len(digits.data)"
      ],
      "execution_count": 16,
      "outputs": [
        {
          "output_type": "execute_result",
          "data": {
            "text/plain": [
              "1797"
            ]
          },
          "metadata": {},
          "execution_count": 16
        }
      ]
    },
    {
      "cell_type": "code",
      "metadata": {
        "colab": {
          "base_uri": "https://localhost:8080/"
        },
        "id": "VYQyo2OD3gZQ",
        "outputId": "5e415143-51e4-4655-9c5d-6bc131524cf6"
      },
      "source": [
        "model.fit(x_train,y_train)"
      ],
      "execution_count": 17,
      "outputs": [
        {
          "output_type": "stream",
          "name": "stderr",
          "text": [
            "/usr/local/lib/python3.7/dist-packages/sklearn/linear_model/_logistic.py:940: ConvergenceWarning: lbfgs failed to converge (status=1):\n",
            "STOP: TOTAL NO. of ITERATIONS REACHED LIMIT.\n",
            "\n",
            "Increase the number of iterations (max_iter) or scale the data as shown in:\n",
            "    https://scikit-learn.org/stable/modules/preprocessing.html\n",
            "Please also refer to the documentation for alternative solver options:\n",
            "    https://scikit-learn.org/stable/modules/linear_model.html#logistic-regression\n",
            "  extra_warning_msg=_LOGISTIC_SOLVER_CONVERGENCE_MSG)\n"
          ]
        },
        {
          "output_type": "execute_result",
          "data": {
            "text/plain": [
              "LogisticRegression(C=1.0, class_weight=None, dual=False, fit_intercept=True,\n",
              "                   intercept_scaling=1, l1_ratio=None, max_iter=100,\n",
              "                   multi_class='auto', n_jobs=None, penalty='l2',\n",
              "                   random_state=None, solver='lbfgs', tol=0.0001, verbose=0,\n",
              "                   warm_start=False)"
            ]
          },
          "metadata": {},
          "execution_count": 17
        }
      ]
    },
    {
      "cell_type": "code",
      "metadata": {
        "colab": {
          "base_uri": "https://localhost:8080/"
        },
        "id": "aC21NVH63nkZ",
        "outputId": "0fb1789c-4968-40a0-f6a9-d2979b6d8094"
      },
      "source": [
        "model.predict(x_test)"
      ],
      "execution_count": 19,
      "outputs": [
        {
          "output_type": "execute_result",
          "data": {
            "text/plain": [
              "array([8, 6, 9, 8, 9, 1, 4, 5, 4, 3, 2, 6, 8, 7, 0, 4, 6, 5, 8, 1, 9, 7,\n",
              "       9, 0, 2, 5, 5, 4, 0, 6, 6, 7, 4, 0, 3, 0, 8, 0, 6, 6, 2, 9, 7, 1,\n",
              "       5, 9, 1, 4, 1, 0, 2, 1, 4, 3, 8, 7, 8, 2, 1, 8, 2, 7, 9, 0, 8, 8,\n",
              "       3, 9, 8, 3, 5, 6, 8, 7, 2, 2, 7, 2, 4, 4, 9, 4, 0, 8, 1, 3, 3, 9,\n",
              "       8, 5, 0, 1, 2, 0, 5, 8, 4, 2, 2, 4, 2, 7, 3, 1, 9, 4, 1, 1, 2, 9,\n",
              "       0, 3, 7, 9, 8, 2, 1, 0, 2, 8, 8, 7, 8, 2, 9, 2, 5, 0, 3, 8, 4, 0,\n",
              "       3, 4, 8, 3, 4, 4, 0, 1, 0, 1, 9, 8, 8, 4, 0, 8, 8, 4, 4, 6, 9, 7,\n",
              "       5, 7, 1, 2, 1, 4, 6, 6, 8, 7, 3, 9, 6, 5, 0, 7, 5, 5, 5, 5, 9, 6,\n",
              "       8, 0, 5, 6, 5, 1, 7, 4, 3, 3, 3, 3, 9, 7, 8, 6, 5, 6, 1, 9, 4, 1,\n",
              "       3, 7, 7, 9, 2, 2, 7, 7, 3, 1, 6, 3, 7, 6, 9, 2, 8, 8, 2, 5, 6, 9,\n",
              "       0, 7, 4, 9, 0, 2, 0, 9, 5, 1, 4, 6, 4, 2, 8, 6, 9, 0, 3, 2, 6, 8,\n",
              "       9, 7, 2, 3, 9, 9, 9, 3, 3, 9, 6, 9, 1, 6, 4, 3, 8, 4, 3, 5, 5, 2,\n",
              "       8, 7, 2, 5, 2, 6, 3, 2, 7, 1, 3, 2, 8, 2, 8, 2, 3, 5, 1, 8, 6, 1,\n",
              "       9, 4, 3, 9, 8, 0, 4, 3, 5, 9, 3, 7, 9, 6, 9, 1, 4, 7, 7, 1, 0, 2,\n",
              "       1, 1, 4, 8, 4, 9, 9, 1, 6, 8, 7, 6, 7, 0, 1, 8, 1, 3, 7, 9, 1, 8,\n",
              "       3, 1, 5, 5, 4, 5, 9, 5, 6, 6, 7, 6, 5, 7, 7, 3, 4, 4, 2, 3, 1, 0,\n",
              "       4, 3, 1, 6, 3, 4, 9, 7])"
            ]
          },
          "metadata": {},
          "execution_count": 19
        }
      ]
    },
    {
      "cell_type": "code",
      "metadata": {
        "colab": {
          "base_uri": "https://localhost:8080/"
        },
        "id": "cAE3lyHy3x40",
        "outputId": "4be3619c-5b07-42b9-bdcf-b2f7ba7201ef"
      },
      "source": [
        "y_test"
      ],
      "execution_count": 20,
      "outputs": [
        {
          "output_type": "execute_result",
          "data": {
            "text/plain": [
              "array([4, 6, 7, 8, 9, 1, 4, 5, 4, 3, 2, 6, 8, 7, 0, 4, 6, 5, 8, 1, 9, 7,\n",
              "       9, 0, 2, 5, 5, 4, 0, 6, 6, 7, 4, 0, 3, 0, 8, 0, 6, 6, 2, 9, 7, 1,\n",
              "       5, 9, 1, 4, 7, 0, 2, 8, 4, 3, 8, 7, 8, 2, 1, 8, 2, 7, 9, 0, 8, 8,\n",
              "       3, 9, 8, 3, 5, 6, 8, 7, 2, 2, 7, 2, 4, 4, 9, 4, 0, 8, 1, 3, 3, 9,\n",
              "       8, 5, 0, 1, 2, 0, 5, 8, 4, 2, 2, 4, 2, 7, 3, 1, 9, 4, 1, 1, 2, 9,\n",
              "       0, 3, 7, 9, 8, 2, 1, 0, 2, 8, 8, 7, 8, 2, 9, 2, 5, 0, 3, 8, 4, 0,\n",
              "       3, 4, 9, 3, 4, 4, 0, 1, 0, 1, 9, 8, 8, 4, 0, 8, 8, 4, 4, 6, 9, 7,\n",
              "       5, 7, 1, 2, 1, 4, 6, 6, 8, 7, 3, 9, 6, 5, 0, 7, 5, 5, 5, 5, 9, 8,\n",
              "       8, 0, 5, 6, 5, 1, 7, 4, 3, 3, 3, 3, 9, 7, 8, 6, 5, 6, 8, 9, 1, 1,\n",
              "       3, 7, 7, 9, 2, 2, 7, 7, 3, 1, 6, 3, 7, 6, 8, 2, 8, 8, 2, 5, 6, 9,\n",
              "       0, 7, 4, 9, 0, 2, 0, 9, 5, 1, 4, 6, 4, 2, 8, 6, 9, 0, 3, 2, 6, 8,\n",
              "       9, 7, 2, 3, 9, 9, 5, 3, 3, 9, 6, 9, 1, 6, 4, 3, 8, 4, 3, 9, 5, 2,\n",
              "       8, 7, 2, 5, 2, 6, 3, 2, 7, 1, 3, 2, 8, 2, 8, 2, 3, 5, 1, 8, 4, 1,\n",
              "       5, 4, 3, 9, 8, 0, 4, 3, 5, 9, 5, 7, 9, 6, 9, 1, 4, 7, 7, 1, 0, 2,\n",
              "       1, 1, 4, 8, 4, 9, 9, 1, 6, 8, 7, 6, 7, 0, 1, 8, 1, 3, 7, 9, 1, 8,\n",
              "       3, 1, 5, 5, 4, 5, 9, 5, 6, 6, 7, 6, 5, 7, 7, 3, 4, 4, 2, 9, 1, 0,\n",
              "       4, 3, 1, 6, 3, 4, 9, 7])"
            ]
          },
          "metadata": {},
          "execution_count": 20
        }
      ]
    },
    {
      "cell_type": "code",
      "metadata": {
        "colab": {
          "base_uri": "https://localhost:8080/"
        },
        "id": "BvIiUqHV31i4",
        "outputId": "a330c69a-11f6-4f37-f53b-219341ed871b"
      },
      "source": [
        "model.score(x_test,y_test)"
      ],
      "execution_count": 21,
      "outputs": [
        {
          "output_type": "execute_result",
          "data": {
            "text/plain": [
              "0.9583333333333334"
            ]
          },
          "metadata": {},
          "execution_count": 21
        }
      ]
    },
    {
      "cell_type": "code",
      "metadata": {
        "id": "0STh3zy04NA8"
      },
      "source": [
        "y_predicted = model.predict(x_test)"
      ],
      "execution_count": 22,
      "outputs": []
    },
    {
      "cell_type": "code",
      "metadata": {
        "colab": {
          "base_uri": "https://localhost:8080/"
        },
        "id": "8GmsFWUc4WTF",
        "outputId": "194d9d59-dc3b-4fc5-90cd-d15ec36672fb"
      },
      "source": [
        "from sklearn.metrics import confusion_matrix\n",
        "cm = confusion_matrix(y_test,y_predicted)\n",
        "cm"
      ],
      "execution_count": 23,
      "outputs": [
        {
          "output_type": "execute_result",
          "data": {
            "text/plain": [
              "array([[28,  0,  0,  0,  0,  0,  0,  0,  0,  0],\n",
              "       [ 0, 34,  0,  0,  1,  0,  0,  0,  0,  0],\n",
              "       [ 0,  0, 36,  0,  0,  0,  0,  0,  0,  0],\n",
              "       [ 0,  0,  0, 36,  0,  0,  0,  0,  0,  0],\n",
              "       [ 0,  0,  0,  0, 37,  0,  1,  0,  1,  0],\n",
              "       [ 0,  0,  0,  1,  0, 29,  0,  0,  0,  2],\n",
              "       [ 0,  0,  0,  0,  0,  0, 31,  0,  0,  0],\n",
              "       [ 0,  1,  0,  0,  0,  0,  0, 36,  0,  1],\n",
              "       [ 0,  2,  0,  0,  0,  0,  1,  0, 40,  1],\n",
              "       [ 0,  0,  0,  1,  0,  1,  0,  0,  1, 38]])"
            ]
          },
          "metadata": {},
          "execution_count": 23
        }
      ]
    },
    {
      "cell_type": "code",
      "metadata": {
        "colab": {
          "base_uri": "https://localhost:8080/",
          "height": 462
        },
        "id": "oTPCH_AV4qLz",
        "outputId": "7253b480-aa85-4d7a-88db-1876850532f3"
      },
      "source": [
        "import seaborn as sns\n",
        "plt.figure(figsize=(10,7))\n",
        "sns.heatmap(cm,annot=True)\n",
        "plt.xlabel('predicted')\n",
        "plt.ylabel('Truth')"
      ],
      "execution_count": 24,
      "outputs": [
        {
          "output_type": "execute_result",
          "data": {
            "text/plain": [
              "Text(69.0, 0.5, 'Truth')"
            ]
          },
          "metadata": {},
          "execution_count": 24
        },
        {
          "output_type": "display_data",
          "data": {
            "image/png": "[encoded data removed]",
            "text/plain": [
              "<Figure size 720x504 with 2 Axes>"
            ]
          },
          "metadata": {
            "needs_background": "light"
          }
        }
      ]
    }
  ]
}