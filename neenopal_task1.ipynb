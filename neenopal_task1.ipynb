{
  "nbformat": 4,
  "nbformat_minor": 0,
  "metadata": {
    "colab": {
      "name": "neenopal_task1.ipynb",
      "provenance": [],
      "authorship_tag": "ABX9TyP471Qh/011J3ESPBZk7P/H",
      "include_colab_link": true
    },
    "kernelspec": {
      "name": "python3",
      "display_name": "Python 3"
    },
    "language_info": {
      "name": "python"
    }
  },
  "cells": [
    {
      "cell_type": "markdown",
      "metadata": {
        "id": "view-in-github",
        "colab_type": "text"
      },
      "source": [
        "<a href=\"https://colab.research.google.com/github/Ikunalk4/ml/blob/main/neenopal_task1.ipynb\" target=\"_parent\"><img src=\"https://colab.research.google.com/assets/colab-badge.svg\" alt=\"Open In Colab\"/></a>"
      ]
    },
    {
      "cell_type": "markdown",
      "metadata": {
        "id": "MXQs5PIVTpgF"
      },
      "source": [
        "### There are 2 datasets present in the file. Data 1 and Data 2. The primary key for both data1 and data2 is Order Id + Product ID combination (i.e. the individual datasets do not have any duplicate on this combination)\n"
      ]
    },
    {
      "cell_type": "markdown",
      "metadata": {
        "id": "S2xQUn8BUg1-"
      },
      "source": [
        "Let us import the libraries, We will use pandas."
      ]
    },
    {
      "cell_type": "code",
      "metadata": {
        "id": "y7Y3bub6UmSX"
      },
      "source": [
        "import pandas as pd"
      ],
      "execution_count": 1,
      "outputs": []
    },
    {
      "cell_type": "markdown",
      "metadata": {
        "id": "m5acWEtjTx7V"
      },
      "source": [
        "Let us first upload the data file which is required to analyse:-  "
      ]
    },
    {
      "cell_type": "code",
      "metadata": {
        "id": "flp8lmZYUb_u"
      },
      "source": [
        "df1 = pd.read_csv('/content/Records Matching Task.xlsx - data1.csv')\n",
        "df2 = pd.read_csv('/content/Records Matching Task.xlsx - data2.csv')"
      ],
      "execution_count": 2,
      "outputs": []
    },
    {
      "cell_type": "markdown",
      "metadata": {
        "id": "iQ114gTfUREl"
      },
      "source": [
        "#### 1) How to identify the Records (Order ID + Product ID combination) present in data1 but missing in data2 (Specify the number of records missing in your answer)"
      ]
    },
    {
      "cell_type": "code",
      "metadata": {
        "colab": {
          "base_uri": "https://localhost:8080/",
          "height": 206
        },
        "id": "T9QYym0tTw3E",
        "outputId": "f7df385b-b7ad-4c88-bc6f-5f4750847d59"
      },
      "source": [
        "df1.head()"
      ],
      "execution_count": 3,
      "outputs": [
        {
          "output_type": "execute_result",
          "data": {
            "text/html": [
              "<div>\n",
              "<style scoped>\n",
              "    .dataframe tbody tr th:only-of-type {\n",
              "        vertical-align: middle;\n",
              "    }\n",
              "\n",
              "    .dataframe tbody tr th {\n",
              "        vertical-align: top;\n",
              "    }\n",
              "\n",
              "    .dataframe thead th {\n",
              "        text-align: right;\n",
              "    }\n",
              "</style>\n",
              "<table border=\"1\" class=\"dataframe\">\n",
              "  <thead>\n",
              "    <tr style=\"text-align: right;\">\n",
              "      <th></th>\n",
              "      <th>Order ID</th>\n",
              "      <th>Product ID</th>\n",
              "      <th>Qty</th>\n",
              "    </tr>\n",
              "  </thead>\n",
              "  <tbody>\n",
              "    <tr>\n",
              "      <th>0</th>\n",
              "      <td>CA-2014-100006</td>\n",
              "      <td>TEC-PH-10002075</td>\n",
              "      <td>3</td>\n",
              "    </tr>\n",
              "    <tr>\n",
              "      <th>1</th>\n",
              "      <td>CA-2014-100090</td>\n",
              "      <td>FUR-TA-10003715</td>\n",
              "      <td>3</td>\n",
              "    </tr>\n",
              "    <tr>\n",
              "      <th>2</th>\n",
              "      <td>CA-2014-100090</td>\n",
              "      <td>OFF-BI-10001597</td>\n",
              "      <td>6</td>\n",
              "    </tr>\n",
              "    <tr>\n",
              "      <th>3</th>\n",
              "      <td>CA-2014-100293</td>\n",
              "      <td>OFF-PA-10000176</td>\n",
              "      <td>6</td>\n",
              "    </tr>\n",
              "    <tr>\n",
              "      <th>4</th>\n",
              "      <td>CA-2014-100328</td>\n",
              "      <td>OFF-BI-10000343</td>\n",
              "      <td>1</td>\n",
              "    </tr>\n",
              "  </tbody>\n",
              "</table>\n",
              "</div>"
            ],
            "text/plain": [
              "         Order ID       Product ID  Qty\n",
              "0  CA-2014-100006  TEC-PH-10002075    3\n",
              "1  CA-2014-100090  FUR-TA-10003715    3\n",
              "2  CA-2014-100090  OFF-BI-10001597    6\n",
              "3  CA-2014-100293  OFF-PA-10000176    6\n",
              "4  CA-2014-100328  OFF-BI-10000343    1"
            ]
          },
          "metadata": {},
          "execution_count": 3
        }
      ]
    },
    {
      "cell_type": "code",
      "metadata": {
        "colab": {
          "base_uri": "https://localhost:8080/",
          "height": 206
        },
        "id": "o6KBSkgGVKfQ",
        "outputId": "1d9412d8-0734-45c8-b3e0-ec0c029a744d"
      },
      "source": [
        "df2.head()"
      ],
      "execution_count": 4,
      "outputs": [
        {
          "output_type": "execute_result",
          "data": {
            "text/html": [
              "<div>\n",
              "<style scoped>\n",
              "    .dataframe tbody tr th:only-of-type {\n",
              "        vertical-align: middle;\n",
              "    }\n",
              "\n",
              "    .dataframe tbody tr th {\n",
              "        vertical-align: top;\n",
              "    }\n",
              "\n",
              "    .dataframe thead th {\n",
              "        text-align: right;\n",
              "    }\n",
              "</style>\n",
              "<table border=\"1\" class=\"dataframe\">\n",
              "  <thead>\n",
              "    <tr style=\"text-align: right;\">\n",
              "      <th></th>\n",
              "      <th>Order ID</th>\n",
              "      <th>Product ID</th>\n",
              "      <th>Qty</th>\n",
              "    </tr>\n",
              "  </thead>\n",
              "  <tbody>\n",
              "    <tr>\n",
              "      <th>0</th>\n",
              "      <td>CA-2014-100090</td>\n",
              "      <td>FUR-TA-10003715</td>\n",
              "      <td>3</td>\n",
              "    </tr>\n",
              "    <tr>\n",
              "      <th>1</th>\n",
              "      <td>CA-2014-100090</td>\n",
              "      <td>OFF-BI-10001597</td>\n",
              "      <td>6</td>\n",
              "    </tr>\n",
              "    <tr>\n",
              "      <th>2</th>\n",
              "      <td>CA-2014-100293</td>\n",
              "      <td>OFF-PA-10000176</td>\n",
              "      <td>6</td>\n",
              "    </tr>\n",
              "    <tr>\n",
              "      <th>3</th>\n",
              "      <td>CA-2014-100328</td>\n",
              "      <td>OFF-BI-10000343</td>\n",
              "      <td>1</td>\n",
              "    </tr>\n",
              "    <tr>\n",
              "      <th>4</th>\n",
              "      <td>CA-2014-100363</td>\n",
              "      <td>OFF-FA-10000611</td>\n",
              "      <td>2</td>\n",
              "    </tr>\n",
              "  </tbody>\n",
              "</table>\n",
              "</div>"
            ],
            "text/plain": [
              "         Order ID       Product ID  Qty\n",
              "0  CA-2014-100090  FUR-TA-10003715    3\n",
              "1  CA-2014-100090  OFF-BI-10001597    6\n",
              "2  CA-2014-100293  OFF-PA-10000176    6\n",
              "3  CA-2014-100328  OFF-BI-10000343    1\n",
              "4  CA-2014-100363  OFF-FA-10000611    2"
            ]
          },
          "metadata": {},
          "execution_count": 4
        }
      ]
    },
    {
      "cell_type": "code",
      "metadata": {
        "colab": {
          "base_uri": "https://localhost:8080/"
        },
        "id": "Fl_3VZl9VNJi",
        "outputId": "e95425ce-c05b-4eee-89ce-035b7d80f4e9"
      },
      "source": [
        "df1.shape"
      ],
      "execution_count": 5,
      "outputs": [
        {
          "output_type": "execute_result",
          "data": {
            "text/plain": [
              "(9478, 3)"
            ]
          },
          "metadata": {},
          "execution_count": 5
        }
      ]
    },
    {
      "cell_type": "code",
      "metadata": {
        "colab": {
          "base_uri": "https://localhost:8080/"
        },
        "id": "NxX6qGbLVqYm",
        "outputId": "cb4008f7-6214-41f2-e476-966af85aba5b"
      },
      "source": [
        "df2.shape"
      ],
      "execution_count": 6,
      "outputs": [
        {
          "output_type": "execute_result",
          "data": {
            "text/plain": [
              "(9479, 3)"
            ]
          },
          "metadata": {},
          "execution_count": 6
        }
      ]
    },
    {
      "cell_type": "code",
      "metadata": {
        "colab": {
          "base_uri": "https://localhost:8080/",
          "height": 424
        },
        "id": "E9STMQsjV3kL",
        "outputId": "e724bbaf-3b3b-4405-a241-fd82b7ae4080"
      },
      "source": [
        "A = pd.merge(df1, df2, how=\"outer\", indicator=True)\n",
        "A"
      ],
      "execution_count": 7,
      "outputs": [
        {
          "output_type": "execute_result",
          "data": {
            "text/html": [
              "<div>\n",
              "<style scoped>\n",
              "    .dataframe tbody tr th:only-of-type {\n",
              "        vertical-align: middle;\n",
              "    }\n",
              "\n",
              "    .dataframe tbody tr th {\n",
              "        vertical-align: top;\n",
              "    }\n",
              "\n",
              "    .dataframe thead th {\n",
              "        text-align: right;\n",
              "    }\n",
              "</style>\n",
              "<table border=\"1\" class=\"dataframe\">\n",
              "  <thead>\n",
              "    <tr style=\"text-align: right;\">\n",
              "      <th></th>\n",
              "      <th>Order ID</th>\n",
              "      <th>Product ID</th>\n",
              "      <th>Qty</th>\n",
              "      <th>_merge</th>\n",
              "    </tr>\n",
              "  </thead>\n",
              "  <tbody>\n",
              "    <tr>\n",
              "      <th>0</th>\n",
              "      <td>CA-2014-100006</td>\n",
              "      <td>TEC-PH-10002075</td>\n",
              "      <td>3</td>\n",
              "      <td>left_only</td>\n",
              "    </tr>\n",
              "    <tr>\n",
              "      <th>1</th>\n",
              "      <td>CA-2014-100090</td>\n",
              "      <td>FUR-TA-10003715</td>\n",
              "      <td>3</td>\n",
              "      <td>both</td>\n",
              "    </tr>\n",
              "    <tr>\n",
              "      <th>2</th>\n",
              "      <td>CA-2014-100090</td>\n",
              "      <td>OFF-BI-10001597</td>\n",
              "      <td>6</td>\n",
              "      <td>both</td>\n",
              "    </tr>\n",
              "    <tr>\n",
              "      <th>3</th>\n",
              "      <td>CA-2014-100293</td>\n",
              "      <td>OFF-PA-10000176</td>\n",
              "      <td>6</td>\n",
              "      <td>both</td>\n",
              "    </tr>\n",
              "    <tr>\n",
              "      <th>4</th>\n",
              "      <td>CA-2014-100328</td>\n",
              "      <td>OFF-BI-10000343</td>\n",
              "      <td>1</td>\n",
              "      <td>both</td>\n",
              "    </tr>\n",
              "    <tr>\n",
              "      <th>...</th>\n",
              "      <td>...</td>\n",
              "      <td>...</td>\n",
              "      <td>...</td>\n",
              "      <td>...</td>\n",
              "    </tr>\n",
              "    <tr>\n",
              "      <th>9981</th>\n",
              "      <td>US-2017-165344</td>\n",
              "      <td>OFF-BI-10003196</td>\n",
              "      <td>10</td>\n",
              "      <td>right_only</td>\n",
              "    </tr>\n",
              "    <tr>\n",
              "      <th>9982</th>\n",
              "      <td>US-2017-165358</td>\n",
              "      <td>TEC-CO-10001943</td>\n",
              "      <td>5</td>\n",
              "      <td>right_only</td>\n",
              "    </tr>\n",
              "    <tr>\n",
              "      <th>9983</th>\n",
              "      <td>US-2017-167920</td>\n",
              "      <td>OFF-AP-10000159</td>\n",
              "      <td>5</td>\n",
              "      <td>right_only</td>\n",
              "    </tr>\n",
              "    <tr>\n",
              "      <th>9984</th>\n",
              "      <td>US-2017-169502</td>\n",
              "      <td>OFF-AP-10001947</td>\n",
              "      <td>5</td>\n",
              "      <td>right_only</td>\n",
              "    </tr>\n",
              "    <tr>\n",
              "      <th>9985</th>\n",
              "      <td>US-2017-169551</td>\n",
              "      <td>FUR-BO-10001519</td>\n",
              "      <td>3</td>\n",
              "      <td>right_only</td>\n",
              "    </tr>\n",
              "  </tbody>\n",
              "</table>\n",
              "<p>9986 rows × 4 columns</p>\n",
              "</div>"
            ],
            "text/plain": [
              "            Order ID       Product ID  Qty      _merge\n",
              "0     CA-2014-100006  TEC-PH-10002075    3   left_only\n",
              "1     CA-2014-100090  FUR-TA-10003715    3        both\n",
              "2     CA-2014-100090  OFF-BI-10001597    6        both\n",
              "3     CA-2014-100293  OFF-PA-10000176    6        both\n",
              "4     CA-2014-100328  OFF-BI-10000343    1        both\n",
              "...              ...              ...  ...         ...\n",
              "9981  US-2017-165344  OFF-BI-10003196   10  right_only\n",
              "9982  US-2017-165358  TEC-CO-10001943    5  right_only\n",
              "9983  US-2017-167920  OFF-AP-10000159    5  right_only\n",
              "9984  US-2017-169502  OFF-AP-10001947    5  right_only\n",
              "9985  US-2017-169551  FUR-BO-10001519    3  right_only\n",
              "\n",
              "[9986 rows x 4 columns]"
            ]
          },
          "metadata": {},
          "execution_count": 7
        }
      ]
    },
    {
      "cell_type": "code",
      "metadata": {
        "colab": {
          "base_uri": "https://localhost:8080/",
          "height": 424
        },
        "id": "hUJLl1qHrL79",
        "outputId": "d8fe377a-8a43-416c-ad48-5b70225eadfc"
      },
      "source": [
        "Right_only = A[A['_merge'] == 'right_only']\n",
        "Right_only"
      ],
      "execution_count": 8,
      "outputs": [
        {
          "output_type": "execute_result",
          "data": {
            "text/html": [
              "<div>\n",
              "<style scoped>\n",
              "    .dataframe tbody tr th:only-of-type {\n",
              "        vertical-align: middle;\n",
              "    }\n",
              "\n",
              "    .dataframe tbody tr th {\n",
              "        vertical-align: top;\n",
              "    }\n",
              "\n",
              "    .dataframe thead th {\n",
              "        text-align: right;\n",
              "    }\n",
              "</style>\n",
              "<table border=\"1\" class=\"dataframe\">\n",
              "  <thead>\n",
              "    <tr style=\"text-align: right;\">\n",
              "      <th></th>\n",
              "      <th>Order ID</th>\n",
              "      <th>Product ID</th>\n",
              "      <th>Qty</th>\n",
              "      <th>_merge</th>\n",
              "    </tr>\n",
              "  </thead>\n",
              "  <tbody>\n",
              "    <tr>\n",
              "      <th>9478</th>\n",
              "      <td>CA-2014-100706</td>\n",
              "      <td>TEC-AC-10001314</td>\n",
              "      <td>2</td>\n",
              "      <td>right_only</td>\n",
              "    </tr>\n",
              "    <tr>\n",
              "      <th>9479</th>\n",
              "      <td>CA-2014-100762</td>\n",
              "      <td>OFF-PA-10001815</td>\n",
              "      <td>3</td>\n",
              "      <td>right_only</td>\n",
              "    </tr>\n",
              "    <tr>\n",
              "      <th>9480</th>\n",
              "      <td>CA-2014-101427</td>\n",
              "      <td>OFF-AR-10002257</td>\n",
              "      <td>3</td>\n",
              "      <td>right_only</td>\n",
              "    </tr>\n",
              "    <tr>\n",
              "      <th>9481</th>\n",
              "      <td>CA-2014-102652</td>\n",
              "      <td>FUR-FU-10001918</td>\n",
              "      <td>7</td>\n",
              "      <td>right_only</td>\n",
              "    </tr>\n",
              "    <tr>\n",
              "      <th>9482</th>\n",
              "      <td>CA-2014-102869</td>\n",
              "      <td>OFF-PA-10000788</td>\n",
              "      <td>3</td>\n",
              "      <td>right_only</td>\n",
              "    </tr>\n",
              "    <tr>\n",
              "      <th>...</th>\n",
              "      <td>...</td>\n",
              "      <td>...</td>\n",
              "      <td>...</td>\n",
              "      <td>...</td>\n",
              "    </tr>\n",
              "    <tr>\n",
              "      <th>9981</th>\n",
              "      <td>US-2017-165344</td>\n",
              "      <td>OFF-BI-10003196</td>\n",
              "      <td>10</td>\n",
              "      <td>right_only</td>\n",
              "    </tr>\n",
              "    <tr>\n",
              "      <th>9982</th>\n",
              "      <td>US-2017-165358</td>\n",
              "      <td>TEC-CO-10001943</td>\n",
              "      <td>5</td>\n",
              "      <td>right_only</td>\n",
              "    </tr>\n",
              "    <tr>\n",
              "      <th>9983</th>\n",
              "      <td>US-2017-167920</td>\n",
              "      <td>OFF-AP-10000159</td>\n",
              "      <td>5</td>\n",
              "      <td>right_only</td>\n",
              "    </tr>\n",
              "    <tr>\n",
              "      <th>9984</th>\n",
              "      <td>US-2017-169502</td>\n",
              "      <td>OFF-AP-10001947</td>\n",
              "      <td>5</td>\n",
              "      <td>right_only</td>\n",
              "    </tr>\n",
              "    <tr>\n",
              "      <th>9985</th>\n",
              "      <td>US-2017-169551</td>\n",
              "      <td>FUR-BO-10001519</td>\n",
              "      <td>3</td>\n",
              "      <td>right_only</td>\n",
              "    </tr>\n",
              "  </tbody>\n",
              "</table>\n",
              "<p>508 rows × 4 columns</p>\n",
              "</div>"
            ],
            "text/plain": [
              "            Order ID       Product ID  Qty      _merge\n",
              "9478  CA-2014-100706  TEC-AC-10001314    2  right_only\n",
              "9479  CA-2014-100762  OFF-PA-10001815    3  right_only\n",
              "9480  CA-2014-101427  OFF-AR-10002257    3  right_only\n",
              "9481  CA-2014-102652  FUR-FU-10001918    7  right_only\n",
              "9482  CA-2014-102869  OFF-PA-10000788    3  right_only\n",
              "...              ...              ...  ...         ...\n",
              "9981  US-2017-165344  OFF-BI-10003196   10  right_only\n",
              "9982  US-2017-165358  TEC-CO-10001943    5  right_only\n",
              "9983  US-2017-167920  OFF-AP-10000159    5  right_only\n",
              "9984  US-2017-169502  OFF-AP-10001947    5  right_only\n",
              "9985  US-2017-169551  FUR-BO-10001519    3  right_only\n",
              "\n",
              "[508 rows x 4 columns]"
            ]
          },
          "metadata": {},
          "execution_count": 8
        }
      ]
    },
    {
      "cell_type": "markdown",
      "metadata": {
        "id": "gz1gyU1krvOk"
      },
      "source": [
        "#### The number of records present in data1 but missing in data2 is 508."
      ]
    },
    {
      "cell_type": "code",
      "metadata": {
        "colab": {
          "base_uri": "https://localhost:8080/"
        },
        "id": "rl-MOztLrekS",
        "outputId": "856928da-27b8-4e43-a0c4-0f2370d3a4cb"
      },
      "source": [
        "Right_only.shape"
      ],
      "execution_count": 9,
      "outputs": [
        {
          "output_type": "execute_result",
          "data": {
            "text/plain": [
              "(508, 4)"
            ]
          },
          "metadata": {},
          "execution_count": 9
        }
      ]
    },
    {
      "cell_type": "markdown",
      "metadata": {
        "id": "nNulIa6Xbmge"
      },
      "source": [
        "#### 2) How to identify the Records (Order ID + Product ID combination) missing in data1 but present in data2 (Specify the number of records missing in your answer)"
      ]
    },
    {
      "cell_type": "code",
      "metadata": {
        "colab": {
          "base_uri": "https://localhost:8080/",
          "height": 424
        },
        "id": "oEoowUQdbSPj",
        "outputId": "0bc7db39-1b61-4c08-e264-ae5283135a5d"
      },
      "source": [
        "Left_only = A[A['_merge'] == 'left_only']\n",
        "Left_only"
      ],
      "execution_count": 10,
      "outputs": [
        {
          "output_type": "execute_result",
          "data": {
            "text/html": [
              "<div>\n",
              "<style scoped>\n",
              "    .dataframe tbody tr th:only-of-type {\n",
              "        vertical-align: middle;\n",
              "    }\n",
              "\n",
              "    .dataframe tbody tr th {\n",
              "        vertical-align: top;\n",
              "    }\n",
              "\n",
              "    .dataframe thead th {\n",
              "        text-align: right;\n",
              "    }\n",
              "</style>\n",
              "<table border=\"1\" class=\"dataframe\">\n",
              "  <thead>\n",
              "    <tr style=\"text-align: right;\">\n",
              "      <th></th>\n",
              "      <th>Order ID</th>\n",
              "      <th>Product ID</th>\n",
              "      <th>Qty</th>\n",
              "      <th>_merge</th>\n",
              "    </tr>\n",
              "  </thead>\n",
              "  <tbody>\n",
              "    <tr>\n",
              "      <th>0</th>\n",
              "      <td>CA-2014-100006</td>\n",
              "      <td>TEC-PH-10002075</td>\n",
              "      <td>3</td>\n",
              "      <td>left_only</td>\n",
              "    </tr>\n",
              "    <tr>\n",
              "      <th>10</th>\n",
              "      <td>CA-2014-100678</td>\n",
              "      <td>OFF-EN-10000056</td>\n",
              "      <td>3</td>\n",
              "      <td>left_only</td>\n",
              "    </tr>\n",
              "    <tr>\n",
              "      <th>19</th>\n",
              "      <td>CA-2014-100895</td>\n",
              "      <td>OFF-AR-10004511</td>\n",
              "      <td>2</td>\n",
              "      <td>left_only</td>\n",
              "    </tr>\n",
              "    <tr>\n",
              "      <th>35</th>\n",
              "      <td>CA-2014-101560</td>\n",
              "      <td>OFF-BI-10000309</td>\n",
              "      <td>3</td>\n",
              "      <td>left_only</td>\n",
              "    </tr>\n",
              "    <tr>\n",
              "      <th>61</th>\n",
              "      <td>CA-2014-102673</td>\n",
              "      <td>OFF-LA-10001771</td>\n",
              "      <td>12</td>\n",
              "      <td>left_only</td>\n",
              "    </tr>\n",
              "    <tr>\n",
              "      <th>...</th>\n",
              "      <td>...</td>\n",
              "      <td>...</td>\n",
              "      <td>...</td>\n",
              "      <td>...</td>\n",
              "    </tr>\n",
              "    <tr>\n",
              "      <th>9390</th>\n",
              "      <td>US-2017-160836</td>\n",
              "      <td>OFF-AP-10001626</td>\n",
              "      <td>2</td>\n",
              "      <td>left_only</td>\n",
              "    </tr>\n",
              "    <tr>\n",
              "      <th>9403</th>\n",
              "      <td>US-2017-162558</td>\n",
              "      <td>FUR-FU-10002364</td>\n",
              "      <td>2</td>\n",
              "      <td>left_only</td>\n",
              "    </tr>\n",
              "    <tr>\n",
              "      <th>9420</th>\n",
              "      <td>US-2017-163657</td>\n",
              "      <td>OFF-BI-10000138</td>\n",
              "      <td>5</td>\n",
              "      <td>left_only</td>\n",
              "    </tr>\n",
              "    <tr>\n",
              "      <th>9427</th>\n",
              "      <td>US-2017-164056</td>\n",
              "      <td>FUR-TA-10001307</td>\n",
              "      <td>5</td>\n",
              "      <td>left_only</td>\n",
              "    </tr>\n",
              "    <tr>\n",
              "      <th>9435</th>\n",
              "      <td>US-2017-165456</td>\n",
              "      <td>FUR-CH-10003981</td>\n",
              "      <td>6</td>\n",
              "      <td>left_only</td>\n",
              "    </tr>\n",
              "  </tbody>\n",
              "</table>\n",
              "<p>507 rows × 4 columns</p>\n",
              "</div>"
            ],
            "text/plain": [
              "            Order ID       Product ID  Qty     _merge\n",
              "0     CA-2014-100006  TEC-PH-10002075    3  left_only\n",
              "10    CA-2014-100678  OFF-EN-10000056    3  left_only\n",
              "19    CA-2014-100895  OFF-AR-10004511    2  left_only\n",
              "35    CA-2014-101560  OFF-BI-10000309    3  left_only\n",
              "61    CA-2014-102673  OFF-LA-10001771   12  left_only\n",
              "...              ...              ...  ...        ...\n",
              "9390  US-2017-160836  OFF-AP-10001626    2  left_only\n",
              "9403  US-2017-162558  FUR-FU-10002364    2  left_only\n",
              "9420  US-2017-163657  OFF-BI-10000138    5  left_only\n",
              "9427  US-2017-164056  FUR-TA-10001307    5  left_only\n",
              "9435  US-2017-165456  FUR-CH-10003981    6  left_only\n",
              "\n",
              "[507 rows x 4 columns]"
            ]
          },
          "metadata": {},
          "execution_count": 10
        }
      ]
    },
    {
      "cell_type": "markdown",
      "metadata": {
        "id": "1qtzOVcecMu1"
      },
      "source": [
        "#### The number of records missing in data2 but present in data1 is 507."
      ]
    },
    {
      "cell_type": "code",
      "metadata": {
        "colab": {
          "base_uri": "https://localhost:8080/"
        },
        "id": "0IprV-S6csmr",
        "outputId": "434d1b72-503e-459d-91e2-9bc85f12c05b"
      },
      "source": [
        "Left_only.shape"
      ],
      "execution_count": 11,
      "outputs": [
        {
          "output_type": "execute_result",
          "data": {
            "text/plain": [
              "(507, 4)"
            ]
          },
          "metadata": {},
          "execution_count": 11
        }
      ]
    },
    {
      "cell_type": "markdown",
      "metadata": {
        "id": "LyzDE9UEcLzj"
      },
      "source": [
        "#### 3) Find the Sum of the total Qty of Records missing in data1 but present in data2."
      ]
    },
    {
      "cell_type": "code",
      "metadata": {
        "colab": {
          "base_uri": "https://localhost:8080/"
        },
        "id": "YWo8m4sDclbb",
        "outputId": "65477d20-f429-42f0-9eb5-fa3d64980a81"
      },
      "source": [
        "Sum_of_the_total_Qty = Left_only.Qty.sum()\n",
        "Sum_of_the_total_Qty"
      ],
      "execution_count": 13,
      "outputs": [
        {
          "output_type": "execute_result",
          "data": {
            "text/plain": [
              "1874"
            ]
          },
          "metadata": {},
          "execution_count": 13
        }
      ]
    },
    {
      "cell_type": "markdown",
      "metadata": {
        "id": "WoaxG43NtLbb"
      },
      "source": [
        "#### The sum of total Qty is 1874."
      ]
    },
    {
      "cell_type": "markdown",
      "metadata": {
        "id": "l8LsVhKVdY-u"
      },
      "source": [
        "#### 4) Find the total number of unique records (Order ID + Product ID combination) present in the combined dataset of data1 and data2."
      ]
    },
    {
      "cell_type": "code",
      "metadata": {
        "colab": {
          "base_uri": "https://localhost:8080/",
          "height": 424
        },
        "id": "CORLIX__dYSZ",
        "outputId": "b804af7d-685d-48b3-ed00-3178a0c1fa47"
      },
      "source": [
        "Unique_value = A\n",
        "Unique_value"
      ],
      "execution_count": 17,
      "outputs": [
        {
          "output_type": "execute_result",
          "data": {
            "text/html": [
              "<div>\n",
              "<style scoped>\n",
              "    .dataframe tbody tr th:only-of-type {\n",
              "        vertical-align: middle;\n",
              "    }\n",
              "\n",
              "    .dataframe tbody tr th {\n",
              "        vertical-align: top;\n",
              "    }\n",
              "\n",
              "    .dataframe thead th {\n",
              "        text-align: right;\n",
              "    }\n",
              "</style>\n",
              "<table border=\"1\" class=\"dataframe\">\n",
              "  <thead>\n",
              "    <tr style=\"text-align: right;\">\n",
              "      <th></th>\n",
              "      <th>Order ID</th>\n",
              "      <th>Product ID</th>\n",
              "      <th>Qty</th>\n",
              "      <th>_merge</th>\n",
              "    </tr>\n",
              "  </thead>\n",
              "  <tbody>\n",
              "    <tr>\n",
              "      <th>0</th>\n",
              "      <td>CA-2014-100006</td>\n",
              "      <td>TEC-PH-10002075</td>\n",
              "      <td>3</td>\n",
              "      <td>left_only</td>\n",
              "    </tr>\n",
              "    <tr>\n",
              "      <th>1</th>\n",
              "      <td>CA-2014-100090</td>\n",
              "      <td>FUR-TA-10003715</td>\n",
              "      <td>3</td>\n",
              "      <td>both</td>\n",
              "    </tr>\n",
              "    <tr>\n",
              "      <th>2</th>\n",
              "      <td>CA-2014-100090</td>\n",
              "      <td>OFF-BI-10001597</td>\n",
              "      <td>6</td>\n",
              "      <td>both</td>\n",
              "    </tr>\n",
              "    <tr>\n",
              "      <th>3</th>\n",
              "      <td>CA-2014-100293</td>\n",
              "      <td>OFF-PA-10000176</td>\n",
              "      <td>6</td>\n",
              "      <td>both</td>\n",
              "    </tr>\n",
              "    <tr>\n",
              "      <th>4</th>\n",
              "      <td>CA-2014-100328</td>\n",
              "      <td>OFF-BI-10000343</td>\n",
              "      <td>1</td>\n",
              "      <td>both</td>\n",
              "    </tr>\n",
              "    <tr>\n",
              "      <th>...</th>\n",
              "      <td>...</td>\n",
              "      <td>...</td>\n",
              "      <td>...</td>\n",
              "      <td>...</td>\n",
              "    </tr>\n",
              "    <tr>\n",
              "      <th>9981</th>\n",
              "      <td>US-2017-165344</td>\n",
              "      <td>OFF-BI-10003196</td>\n",
              "      <td>10</td>\n",
              "      <td>right_only</td>\n",
              "    </tr>\n",
              "    <tr>\n",
              "      <th>9982</th>\n",
              "      <td>US-2017-165358</td>\n",
              "      <td>TEC-CO-10001943</td>\n",
              "      <td>5</td>\n",
              "      <td>right_only</td>\n",
              "    </tr>\n",
              "    <tr>\n",
              "      <th>9983</th>\n",
              "      <td>US-2017-167920</td>\n",
              "      <td>OFF-AP-10000159</td>\n",
              "      <td>5</td>\n",
              "      <td>right_only</td>\n",
              "    </tr>\n",
              "    <tr>\n",
              "      <th>9984</th>\n",
              "      <td>US-2017-169502</td>\n",
              "      <td>OFF-AP-10001947</td>\n",
              "      <td>5</td>\n",
              "      <td>right_only</td>\n",
              "    </tr>\n",
              "    <tr>\n",
              "      <th>9985</th>\n",
              "      <td>US-2017-169551</td>\n",
              "      <td>FUR-BO-10001519</td>\n",
              "      <td>3</td>\n",
              "      <td>right_only</td>\n",
              "    </tr>\n",
              "  </tbody>\n",
              "</table>\n",
              "<p>9986 rows × 4 columns</p>\n",
              "</div>"
            ],
            "text/plain": [
              "            Order ID       Product ID  Qty      _merge\n",
              "0     CA-2014-100006  TEC-PH-10002075    3   left_only\n",
              "1     CA-2014-100090  FUR-TA-10003715    3        both\n",
              "2     CA-2014-100090  OFF-BI-10001597    6        both\n",
              "3     CA-2014-100293  OFF-PA-10000176    6        both\n",
              "4     CA-2014-100328  OFF-BI-10000343    1        both\n",
              "...              ...              ...  ...         ...\n",
              "9981  US-2017-165344  OFF-BI-10003196   10  right_only\n",
              "9982  US-2017-165358  TEC-CO-10001943    5  right_only\n",
              "9983  US-2017-167920  OFF-AP-10000159    5  right_only\n",
              "9984  US-2017-169502  OFF-AP-10001947    5  right_only\n",
              "9985  US-2017-169551  FUR-BO-10001519    3  right_only\n",
              "\n",
              "[9986 rows x 4 columns]"
            ]
          },
          "metadata": {},
          "execution_count": 17
        }
      ]
    },
    {
      "cell_type": "code",
      "metadata": {
        "colab": {
          "base_uri": "https://localhost:8080/",
          "height": 206
        },
        "id": "DkVa1hVDtdrX",
        "outputId": "6f1c01c7-b1c0-4007-8a20-ce91d0f118b0"
      },
      "source": [
        "Unique_value.head()"
      ],
      "execution_count": 18,
      "outputs": [
        {
          "output_type": "execute_result",
          "data": {
            "text/html": [
              "<div>\n",
              "<style scoped>\n",
              "    .dataframe tbody tr th:only-of-type {\n",
              "        vertical-align: middle;\n",
              "    }\n",
              "\n",
              "    .dataframe tbody tr th {\n",
              "        vertical-align: top;\n",
              "    }\n",
              "\n",
              "    .dataframe thead th {\n",
              "        text-align: right;\n",
              "    }\n",
              "</style>\n",
              "<table border=\"1\" class=\"dataframe\">\n",
              "  <thead>\n",
              "    <tr style=\"text-align: right;\">\n",
              "      <th></th>\n",
              "      <th>Order ID</th>\n",
              "      <th>Product ID</th>\n",
              "      <th>Qty</th>\n",
              "      <th>_merge</th>\n",
              "    </tr>\n",
              "  </thead>\n",
              "  <tbody>\n",
              "    <tr>\n",
              "      <th>0</th>\n",
              "      <td>CA-2014-100006</td>\n",
              "      <td>TEC-PH-10002075</td>\n",
              "      <td>3</td>\n",
              "      <td>left_only</td>\n",
              "    </tr>\n",
              "    <tr>\n",
              "      <th>1</th>\n",
              "      <td>CA-2014-100090</td>\n",
              "      <td>FUR-TA-10003715</td>\n",
              "      <td>3</td>\n",
              "      <td>both</td>\n",
              "    </tr>\n",
              "    <tr>\n",
              "      <th>2</th>\n",
              "      <td>CA-2014-100090</td>\n",
              "      <td>OFF-BI-10001597</td>\n",
              "      <td>6</td>\n",
              "      <td>both</td>\n",
              "    </tr>\n",
              "    <tr>\n",
              "      <th>3</th>\n",
              "      <td>CA-2014-100293</td>\n",
              "      <td>OFF-PA-10000176</td>\n",
              "      <td>6</td>\n",
              "      <td>both</td>\n",
              "    </tr>\n",
              "    <tr>\n",
              "      <th>4</th>\n",
              "      <td>CA-2014-100328</td>\n",
              "      <td>OFF-BI-10000343</td>\n",
              "      <td>1</td>\n",
              "      <td>both</td>\n",
              "    </tr>\n",
              "  </tbody>\n",
              "</table>\n",
              "</div>"
            ],
            "text/plain": [
              "         Order ID       Product ID  Qty     _merge\n",
              "0  CA-2014-100006  TEC-PH-10002075    3  left_only\n",
              "1  CA-2014-100090  FUR-TA-10003715    3       both\n",
              "2  CA-2014-100090  OFF-BI-10001597    6       both\n",
              "3  CA-2014-100293  OFF-PA-10000176    6       both\n",
              "4  CA-2014-100328  OFF-BI-10000343    1       both"
            ]
          },
          "metadata": {},
          "execution_count": 18
        }
      ]
    },
    {
      "cell_type": "code",
      "metadata": {
        "colab": {
          "base_uri": "https://localhost:8080/"
        },
        "id": "LRpTY2UitjEy",
        "outputId": "58b618c7-7198-4d89-f7a8-9a59e0e29067"
      },
      "source": [
        "Unique_value.shape"
      ],
      "execution_count": 19,
      "outputs": [
        {
          "output_type": "execute_result",
          "data": {
            "text/plain": [
              "(9986, 4)"
            ]
          },
          "metadata": {},
          "execution_count": 19
        }
      ]
    },
    {
      "cell_type": "markdown",
      "metadata": {
        "id": "VBTHPVLbtIkz"
      },
      "source": [
        "Total number of unique values are 9986."
      ]
    }
  ]
}