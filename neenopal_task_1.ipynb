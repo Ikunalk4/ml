{
  "nbformat": 4,
  "nbformat_minor": 0,
  "metadata": {
    "colab": {
      "name": "neenopal_task1.ipynb",
      "provenance": [],
      "include_colab_link": true
    },
    "kernelspec": {
      "name": "python3",
      "display_name": "Python 3"
    },
    "language_info": {
      "name": "python"
    }
  },
  "cells": [
    {
      "cell_type": "markdown",
      "metadata": {
        "id": "view-in-github",
        "colab_type": "text"
      },
      "source": [
        "<a href=\"https://colab.research.google.com/github/Ikunalk4/ml/blob/main/neenopal_task_1.ipynb\" target=\"_parent\"><img src=\"https://colab.research.google.com/assets/colab-badge.svg\" alt=\"Open In Colab\"/></a>"
      ]
    },
    {
      "cell_type": "markdown",
      "metadata": {
        "id": "MXQs5PIVTpgF"
      },
      "source": [
        "### There are 2 datasets present in the file. Data 1 and Data 2. The primary key for both data1 and data2 is Order Id + Product ID combination (i.e. the individual datasets do not have any duplicate on this combination)\n"
      ]
    },
    {
      "cell_type": "markdown",
      "metadata": {
        "id": "S2xQUn8BUg1-"
      },
      "source": [
        "Let us import the libraries, We will use pandas."
      ]
    },
    {
      "cell_type": "code",
      "metadata": {
        "id": "y7Y3bub6UmSX"
      },
      "source": [
        "import pandas as pd"
      ],
      "execution_count": 1,
      "outputs": []
    },
    {
      "cell_type": "markdown",
      "metadata": {
        "id": "m5acWEtjTx7V"
      },
      "source": [
        "Let us first upload the data file which is required to analyse:-  "
      ]
    },
    {
      "cell_type": "code",
      "metadata": {
        "id": "flp8lmZYUb_u"
      },
      "source": [
        "df1 = pd.read_csv('/content/Records Matching Task.xlsx - data1.csv')\n",
        "df2 = pd.read_csv('/content/Records Matching Task.xlsx - data2.csv')"
      ],
      "execution_count": 2,
      "outputs": []
    },
    {
      "cell_type": "markdown",
      "metadata": {
        "id": "iQ114gTfUREl"
      },
      "source": [
        "#### 1) How to identify the Records (Order ID + Product ID combination) present in data1 but missing in data2 (Specify the number of records missing in your answer)"
      ]
    },
    {
      "cell_type": "code",
      "metadata": {
        "colab": {
          "base_uri": "https://localhost:8080/",
          "height": 206
        },
        "id": "T9QYym0tTw3E",
        "outputId": "37b27c33-4f56-4ca2-aa0b-a4a0c750d299"
      },
      "source": [
        "df1.head()"
      ],
      "execution_count": 3,
      "outputs": [
        {
          "output_type": "execute_result",
          "data": {
            "text/html": [
              "<div>\n",
              "<style scoped>\n",
              "    .dataframe tbody tr th:only-of-type {\n",
              "        vertical-align: middle;\n",
              "    }\n",
              "\n",
              "    .dataframe tbody tr th {\n",
              "        vertical-align: top;\n",
              "    }\n",
              "\n",
              "    .dataframe thead th {\n",
              "        text-align: right;\n",
              "    }\n",
              "</style>\n",
              "<table border=\"1\" class=\"dataframe\">\n",
              "  <thead>\n",
              "    <tr style=\"text-align: right;\">\n",
              "      <th></th>\n",
              "      <th>Order ID</th>\n",
              "      <th>Product ID</th>\n",
              "      <th>Qty</th>\n",
              "    </tr>\n",
              "  </thead>\n",
              "  <tbody>\n",
              "    <tr>\n",
              "      <th>0</th>\n",
              "      <td>CA-2014-100006</td>\n",
              "      <td>TEC-PH-10002075</td>\n",
              "      <td>3</td>\n",
              "    </tr>\n",
              "    <tr>\n",
              "      <th>1</th>\n",
              "      <td>CA-2014-100090</td>\n",
              "      <td>FUR-TA-10003715</td>\n",
              "      <td>3</td>\n",
              "    </tr>\n",
              "    <tr>\n",
              "      <th>2</th>\n",
              "      <td>CA-2014-100090</td>\n",
              "      <td>OFF-BI-10001597</td>\n",
              "      <td>6</td>\n",
              "    </tr>\n",
              "    <tr>\n",
              "      <th>3</th>\n",
              "      <td>CA-2014-100293</td>\n",
              "      <td>OFF-PA-10000176</td>\n",
              "      <td>6</td>\n",
              "    </tr>\n",
              "    <tr>\n",
              "      <th>4</th>\n",
              "      <td>CA-2014-100328</td>\n",
              "      <td>OFF-BI-10000343</td>\n",
              "      <td>1</td>\n",
              "    </tr>\n",
              "  </tbody>\n",
              "</table>\n",
              "</div>"
            ],
            "text/plain": [
              "         Order ID       Product ID  Qty\n",
              "0  CA-2014-100006  TEC-PH-10002075    3\n",
              "1  CA-2014-100090  FUR-TA-10003715    3\n",
              "2  CA-2014-100090  OFF-BI-10001597    6\n",
              "3  CA-2014-100293  OFF-PA-10000176    6\n",
              "4  CA-2014-100328  OFF-BI-10000343    1"
            ]
          },
          "metadata": {},
          "execution_count": 3
        }
      ]
    },
    {
      "cell_type": "code",
      "metadata": {
        "colab": {
          "base_uri": "https://localhost:8080/",
          "height": 206
        },
        "id": "o6KBSkgGVKfQ",
        "outputId": "1abc54d3-e647-4448-b997-0468b55bff5f"
      },
      "source": [
        "df2.head()"
      ],
      "execution_count": 4,
      "outputs": [
        {
          "output_type": "execute_result",
          "data": {
            "text/html": [
              "<div>\n",
              "<style scoped>\n",
              "    .dataframe tbody tr th:only-of-type {\n",
              "        vertical-align: middle;\n",
              "    }\n",
              "\n",
              "    .dataframe tbody tr th {\n",
              "        vertical-align: top;\n",
              "    }\n",
              "\n",
              "    .dataframe thead th {\n",
              "        text-align: right;\n",
              "    }\n",
              "</style>\n",
              "<table border=\"1\" class=\"dataframe\">\n",
              "  <thead>\n",
              "    <tr style=\"text-align: right;\">\n",
              "      <th></th>\n",
              "      <th>Order ID</th>\n",
              "      <th>Product ID</th>\n",
              "      <th>Qty</th>\n",
              "    </tr>\n",
              "  </thead>\n",
              "  <tbody>\n",
              "    <tr>\n",
              "      <th>0</th>\n",
              "      <td>CA-2014-100090</td>\n",
              "      <td>FUR-TA-10003715</td>\n",
              "      <td>3</td>\n",
              "    </tr>\n",
              "    <tr>\n",
              "      <th>1</th>\n",
              "      <td>CA-2014-100090</td>\n",
              "      <td>OFF-BI-10001597</td>\n",
              "      <td>6</td>\n",
              "    </tr>\n",
              "    <tr>\n",
              "      <th>2</th>\n",
              "      <td>CA-2014-100293</td>\n",
              "      <td>OFF-PA-10000176</td>\n",
              "      <td>6</td>\n",
              "    </tr>\n",
              "    <tr>\n",
              "      <th>3</th>\n",
              "      <td>CA-2014-100328</td>\n",
              "      <td>OFF-BI-10000343</td>\n",
              "      <td>1</td>\n",
              "    </tr>\n",
              "    <tr>\n",
              "      <th>4</th>\n",
              "      <td>CA-2014-100363</td>\n",
              "      <td>OFF-FA-10000611</td>\n",
              "      <td>2</td>\n",
              "    </tr>\n",
              "  </tbody>\n",
              "</table>\n",
              "</div>"
            ],
            "text/plain": [
              "         Order ID       Product ID  Qty\n",
              "0  CA-2014-100090  FUR-TA-10003715    3\n",
              "1  CA-2014-100090  OFF-BI-10001597    6\n",
              "2  CA-2014-100293  OFF-PA-10000176    6\n",
              "3  CA-2014-100328  OFF-BI-10000343    1\n",
              "4  CA-2014-100363  OFF-FA-10000611    2"
            ]
          },
          "metadata": {},
          "execution_count": 4
        }
      ]
    },
    {
      "cell_type": "code",
      "metadata": {
        "colab": {
          "base_uri": "https://localhost:8080/"
        },
        "id": "Fl_3VZl9VNJi",
        "outputId": "01dbd58b-1579-4dca-d0ea-cf7abec3af2b"
      },
      "source": [
        "df1.shape"
      ],
      "execution_count": 5,
      "outputs": [
        {
          "output_type": "execute_result",
          "data": {
            "text/plain": [
              "(9478, 3)"
            ]
          },
          "metadata": {},
          "execution_count": 5
        }
      ]
    },
    {
      "cell_type": "code",
      "metadata": {
        "colab": {
          "base_uri": "https://localhost:8080/"
        },
        "id": "NxX6qGbLVqYm",
        "outputId": "cdb29a29-0f96-488a-c196-0073aecff665"
      },
      "source": [
        "df2.shape"
      ],
      "execution_count": 6,
      "outputs": [
        {
          "output_type": "execute_result",
          "data": {
            "text/plain": [
              "(9479, 3)"
            ]
          },
          "metadata": {},
          "execution_count": 6
        }
      ]
    },
    {
      "cell_type": "code",
      "metadata": {
        "colab": {
          "base_uri": "https://localhost:8080/",
          "height": 424
        },
        "id": "E9STMQsjV3kL",
        "outputId": "4015f4a8-6f18-4088-dccf-25ba048479c7"
      },
      "source": [
        "A = pd.merge(df1, df2, how=\"outer\", indicator=True)\n",
        "A"
      ],
      "execution_count": 7,
      "outputs": [
        {
          "output_type": "execute_result",
          "data": {
            "text/html": [
              "<div>\n",
              "<style scoped>\n",
              "    .dataframe tbody tr th:only-of-type {\n",
              "        vertical-align: middle;\n",
              "    }\n",
              "\n",
              "    .dataframe tbody tr th {\n",
              "        vertical-align: top;\n",
              "    }\n",
              "\n",
              "    .dataframe thead th {\n",
              "        text-align: right;\n",
              "    }\n",
              "</style>\n",
              "<table border=\"1\" class=\"dataframe\">\n",
              "  <thead>\n",
              "    <tr style=\"text-align: right;\">\n",
              "      <th></th>\n",
              "      <th>Order ID</th>\n",
              "      <th>Product ID</th>\n",
              "      <th>Qty</th>\n",
              "      <th>_merge</th>\n",
              "    </tr>\n",
              "  </thead>\n",
              "  <tbody>\n",
              "    <tr>\n",
              "      <th>0</th>\n",
              "      <td>CA-2014-100006</td>\n",
              "      <td>TEC-PH-10002075</td>\n",
              "      <td>3</td>\n",
              "      <td>left_only</td>\n",
              "    </tr>\n",
              "    <tr>\n",
              "      <th>1</th>\n",
              "      <td>CA-2014-100090</td>\n",
              "      <td>FUR-TA-10003715</td>\n",
              "      <td>3</td>\n",
              "      <td>both</td>\n",
              "    </tr>\n",
              "    <tr>\n",
              "      <th>2</th>\n",
              "      <td>CA-2014-100090</td>\n",
              "      <td>OFF-BI-10001597</td>\n",
              "      <td>6</td>\n",
              "      <td>both</td>\n",
              "    </tr>\n",
              "    <tr>\n",
              "      <th>3</th>\n",
              "      <td>CA-2014-100293</td>\n",
              "      <td>OFF-PA-10000176</td>\n",
              "      <td>6</td>\n",
              "      <td>both</td>\n",
              "    </tr>\n",
              "    <tr>\n",
              "      <th>4</th>\n",
              "      <td>CA-2014-100328</td>\n",
              "      <td>OFF-BI-10000343</td>\n",
              "      <td>1</td>\n",
              "      <td>both</td>\n",
              "    </tr>\n",
              "    <tr>\n",
              "      <th>...</th>\n",
              "      <td>...</td>\n",
              "      <td>...</td>\n",
              "      <td>...</td>\n",
              "      <td>...</td>\n",
              "    </tr>\n",
              "    <tr>\n",
              "      <th>9981</th>\n",
              "      <td>US-2017-165344</td>\n",
              "      <td>OFF-BI-10003196</td>\n",
              "      <td>10</td>\n",
              "      <td>right_only</td>\n",
              "    </tr>\n",
              "    <tr>\n",
              "      <th>9982</th>\n",
              "      <td>US-2017-165358</td>\n",
              "      <td>TEC-CO-10001943</td>\n",
              "      <td>5</td>\n",
              "      <td>right_only</td>\n",
              "    </tr>\n",
              "    <tr>\n",
              "      <th>9983</th>\n",
              "      <td>US-2017-167920</td>\n",
              "      <td>OFF-AP-10000159</td>\n",
              "      <td>5</td>\n",
              "      <td>right_only</td>\n",
              "    </tr>\n",
              "    <tr>\n",
              "      <th>9984</th>\n",
              "      <td>US-2017-169502</td>\n",
              "      <td>OFF-AP-10001947</td>\n",
              "      <td>5</td>\n",
              "      <td>right_only</td>\n",
              "    </tr>\n",
              "    <tr>\n",
              "      <th>9985</th>\n",
              "      <td>US-2017-169551</td>\n",
              "      <td>FUR-BO-10001519</td>\n",
              "      <td>3</td>\n",
              "      <td>right_only</td>\n",
              "    </tr>\n",
              "  </tbody>\n",
              "</table>\n",
              "<p>9986 rows × 4 columns</p>\n",
              "</div>"
            ],
            "text/plain": [
              "            Order ID       Product ID  Qty      _merge\n",
              "0     CA-2014-100006  TEC-PH-10002075    3   left_only\n",
              "1     CA-2014-100090  FUR-TA-10003715    3        both\n",
              "2     CA-2014-100090  OFF-BI-10001597    6        both\n",
              "3     CA-2014-100293  OFF-PA-10000176    6        both\n",
              "4     CA-2014-100328  OFF-BI-10000343    1        both\n",
              "...              ...              ...  ...         ...\n",
              "9981  US-2017-165344  OFF-BI-10003196   10  right_only\n",
              "9982  US-2017-165358  TEC-CO-10001943    5  right_only\n",
              "9983  US-2017-167920  OFF-AP-10000159    5  right_only\n",
              "9984  US-2017-169502  OFF-AP-10001947    5  right_only\n",
              "9985  US-2017-169551  FUR-BO-10001519    3  right_only\n",
              "\n",
              "[9986 rows x 4 columns]"
            ]
          },
          "metadata": {},
          "execution_count": 7
        }
      ]
    },
    {
      "cell_type": "code",
      "metadata": {
        "colab": {
          "base_uri": "https://localhost:8080/",
          "height": 424
        },
        "id": "hUJLl1qHrL79",
        "outputId": "820c2538-1746-44f5-a1be-093a520f33a4"
      },
      "source": [
        "Left_only = A[A['_merge'] == 'left_only']\n",
        "Left_only"
      ],
      "execution_count": 9,
      "outputs": [
        {
          "output_type": "execute_result",
          "data": {
            "text/html": [
              "<div>\n",
              "<style scoped>\n",
              "    .dataframe tbody tr th:only-of-type {\n",
              "        vertical-align: middle;\n",
              "    }\n",
              "\n",
              "    .dataframe tbody tr th {\n",
              "        vertical-align: top;\n",
              "    }\n",
              "\n",
              "    .dataframe thead th {\n",
              "        text-align: right;\n",
              "    }\n",
              "</style>\n",
              "<table border=\"1\" class=\"dataframe\">\n",
              "  <thead>\n",
              "    <tr style=\"text-align: right;\">\n",
              "      <th></th>\n",
              "      <th>Order ID</th>\n",
              "      <th>Product ID</th>\n",
              "      <th>Qty</th>\n",
              "      <th>_merge</th>\n",
              "    </tr>\n",
              "  </thead>\n",
              "  <tbody>\n",
              "    <tr>\n",
              "      <th>0</th>\n",
              "      <td>CA-2014-100006</td>\n",
              "      <td>TEC-PH-10002075</td>\n",
              "      <td>3</td>\n",
              "      <td>left_only</td>\n",
              "    </tr>\n",
              "    <tr>\n",
              "      <th>10</th>\n",
              "      <td>CA-2014-100678</td>\n",
              "      <td>OFF-EN-10000056</td>\n",
              "      <td>3</td>\n",
              "      <td>left_only</td>\n",
              "    </tr>\n",
              "    <tr>\n",
              "      <th>19</th>\n",
              "      <td>CA-2014-100895</td>\n",
              "      <td>OFF-AR-10004511</td>\n",
              "      <td>2</td>\n",
              "      <td>left_only</td>\n",
              "    </tr>\n",
              "    <tr>\n",
              "      <th>35</th>\n",
              "      <td>CA-2014-101560</td>\n",
              "      <td>OFF-BI-10000309</td>\n",
              "      <td>3</td>\n",
              "      <td>left_only</td>\n",
              "    </tr>\n",
              "    <tr>\n",
              "      <th>61</th>\n",
              "      <td>CA-2014-102673</td>\n",
              "      <td>OFF-LA-10001771</td>\n",
              "      <td>12</td>\n",
              "      <td>left_only</td>\n",
              "    </tr>\n",
              "    <tr>\n",
              "      <th>...</th>\n",
              "      <td>...</td>\n",
              "      <td>...</td>\n",
              "      <td>...</td>\n",
              "      <td>...</td>\n",
              "    </tr>\n",
              "    <tr>\n",
              "      <th>9390</th>\n",
              "      <td>US-2017-160836</td>\n",
              "      <td>OFF-AP-10001626</td>\n",
              "      <td>2</td>\n",
              "      <td>left_only</td>\n",
              "    </tr>\n",
              "    <tr>\n",
              "      <th>9403</th>\n",
              "      <td>US-2017-162558</td>\n",
              "      <td>FUR-FU-10002364</td>\n",
              "      <td>2</td>\n",
              "      <td>left_only</td>\n",
              "    </tr>\n",
              "    <tr>\n",
              "      <th>9420</th>\n",
              "      <td>US-2017-163657</td>\n",
              "      <td>OFF-BI-10000138</td>\n",
              "      <td>5</td>\n",
              "      <td>left_only</td>\n",
              "    </tr>\n",
              "    <tr>\n",
              "      <th>9427</th>\n",
              "      <td>US-2017-164056</td>\n",
              "      <td>FUR-TA-10001307</td>\n",
              "      <td>5</td>\n",
              "      <td>left_only</td>\n",
              "    </tr>\n",
              "    <tr>\n",
              "      <th>9435</th>\n",
              "      <td>US-2017-165456</td>\n",
              "      <td>FUR-CH-10003981</td>\n",
              "      <td>6</td>\n",
              "      <td>left_only</td>\n",
              "    </tr>\n",
              "  </tbody>\n",
              "</table>\n",
              "<p>507 rows × 4 columns</p>\n",
              "</div>"
            ],
            "text/plain": [
              "            Order ID       Product ID  Qty     _merge\n",
              "0     CA-2014-100006  TEC-PH-10002075    3  left_only\n",
              "10    CA-2014-100678  OFF-EN-10000056    3  left_only\n",
              "19    CA-2014-100895  OFF-AR-10004511    2  left_only\n",
              "35    CA-2014-101560  OFF-BI-10000309    3  left_only\n",
              "61    CA-2014-102673  OFF-LA-10001771   12  left_only\n",
              "...              ...              ...  ...        ...\n",
              "9390  US-2017-160836  OFF-AP-10001626    2  left_only\n",
              "9403  US-2017-162558  FUR-FU-10002364    2  left_only\n",
              "9420  US-2017-163657  OFF-BI-10000138    5  left_only\n",
              "9427  US-2017-164056  FUR-TA-10001307    5  left_only\n",
              "9435  US-2017-165456  FUR-CH-10003981    6  left_only\n",
              "\n",
              "[507 rows x 4 columns]"
            ]
          },
          "metadata": {},
          "execution_count": 9
        }
      ]
    },
    {
      "cell_type": "markdown",
      "metadata": {
        "id": "gz1gyU1krvOk"
      },
      "source": [
        "#### The number of records present in data1 but missing in data2 is 508."
      ]
    },
    {
      "cell_type": "code",
      "metadata": {
        "colab": {
          "base_uri": "https://localhost:8080/"
        },
        "id": "rl-MOztLrekS",
        "outputId": "aaf51d38-2344-4b93-e555-f513d4e27dcf"
      },
      "source": [
        "Left_only.shape"
      ],
      "execution_count": 10,
      "outputs": [
        {
          "output_type": "execute_result",
          "data": {
            "text/plain": [
              "(507, 4)"
            ]
          },
          "metadata": {},
          "execution_count": 10
        }
      ]
    },
    {
      "cell_type": "markdown",
      "metadata": {
        "id": "nNulIa6Xbmge"
      },
      "source": [
        "#### 2) How to identify the Records (Order ID + Product ID combination) missing in data1 but present in data2 (Specify the number of records missing in your answer)"
      ]
    },
    {
      "cell_type": "code",
      "metadata": {
        "colab": {
          "base_uri": "https://localhost:8080/",
          "height": 424
        },
        "id": "oEoowUQdbSPj",
        "outputId": "dd24ecea-db4f-45c7-964d-b9a9cdea4934"
      },
      "source": [
        "Right_only = A[A['_merge'] == 'right_only']\n",
        "Right_only"
      ],
      "execution_count": 11,
      "outputs": [
        {
          "output_type": "execute_result",
          "data": {
            "text/html": [
              "<div>\n",
              "<style scoped>\n",
              "    .dataframe tbody tr th:only-of-type {\n",
              "        vertical-align: middle;\n",
              "    }\n",
              "\n",
              "    .dataframe tbody tr th {\n",
              "        vertical-align: top;\n",
              "    }\n",
              "\n",
              "    .dataframe thead th {\n",
              "        text-align: right;\n",
              "    }\n",
              "</style>\n",
              "<table border=\"1\" class=\"dataframe\">\n",
              "  <thead>\n",
              "    <tr style=\"text-align: right;\">\n",
              "      <th></th>\n",
              "      <th>Order ID</th>\n",
              "      <th>Product ID</th>\n",
              "      <th>Qty</th>\n",
              "      <th>_merge</th>\n",
              "    </tr>\n",
              "  </thead>\n",
              "  <tbody>\n",
              "    <tr>\n",
              "      <th>9478</th>\n",
              "      <td>CA-2014-100706</td>\n",
              "      <td>TEC-AC-10001314</td>\n",
              "      <td>2</td>\n",
              "      <td>right_only</td>\n",
              "    </tr>\n",
              "    <tr>\n",
              "      <th>9479</th>\n",
              "      <td>CA-2014-100762</td>\n",
              "      <td>OFF-PA-10001815</td>\n",
              "      <td>3</td>\n",
              "      <td>right_only</td>\n",
              "    </tr>\n",
              "    <tr>\n",
              "      <th>9480</th>\n",
              "      <td>CA-2014-101427</td>\n",
              "      <td>OFF-AR-10002257</td>\n",
              "      <td>3</td>\n",
              "      <td>right_only</td>\n",
              "    </tr>\n",
              "    <tr>\n",
              "      <th>9481</th>\n",
              "      <td>CA-2014-102652</td>\n",
              "      <td>FUR-FU-10001918</td>\n",
              "      <td>7</td>\n",
              "      <td>right_only</td>\n",
              "    </tr>\n",
              "    <tr>\n",
              "      <th>9482</th>\n",
              "      <td>CA-2014-102869</td>\n",
              "      <td>OFF-PA-10000788</td>\n",
              "      <td>3</td>\n",
              "      <td>right_only</td>\n",
              "    </tr>\n",
              "    <tr>\n",
              "      <th>...</th>\n",
              "      <td>...</td>\n",
              "      <td>...</td>\n",
              "      <td>...</td>\n",
              "      <td>...</td>\n",
              "    </tr>\n",
              "    <tr>\n",
              "      <th>9981</th>\n",
              "      <td>US-2017-165344</td>\n",
              "      <td>OFF-BI-10003196</td>\n",
              "      <td>10</td>\n",
              "      <td>right_only</td>\n",
              "    </tr>\n",
              "    <tr>\n",
              "      <th>9982</th>\n",
              "      <td>US-2017-165358</td>\n",
              "      <td>TEC-CO-10001943</td>\n",
              "      <td>5</td>\n",
              "      <td>right_only</td>\n",
              "    </tr>\n",
              "    <tr>\n",
              "      <th>9983</th>\n",
              "      <td>US-2017-167920</td>\n",
              "      <td>OFF-AP-10000159</td>\n",
              "      <td>5</td>\n",
              "      <td>right_only</td>\n",
              "    </tr>\n",
              "    <tr>\n",
              "      <th>9984</th>\n",
              "      <td>US-2017-169502</td>\n",
              "      <td>OFF-AP-10001947</td>\n",
              "      <td>5</td>\n",
              "      <td>right_only</td>\n",
              "    </tr>\n",
              "    <tr>\n",
              "      <th>9985</th>\n",
              "      <td>US-2017-169551</td>\n",
              "      <td>FUR-BO-10001519</td>\n",
              "      <td>3</td>\n",
              "      <td>right_only</td>\n",
              "    </tr>\n",
              "  </tbody>\n",
              "</table>\n",
              "<p>508 rows × 4 columns</p>\n",
              "</div>"
            ],
            "text/plain": [
              "            Order ID       Product ID  Qty      _merge\n",
              "9478  CA-2014-100706  TEC-AC-10001314    2  right_only\n",
              "9479  CA-2014-100762  OFF-PA-10001815    3  right_only\n",
              "9480  CA-2014-101427  OFF-AR-10002257    3  right_only\n",
              "9481  CA-2014-102652  FUR-FU-10001918    7  right_only\n",
              "9482  CA-2014-102869  OFF-PA-10000788    3  right_only\n",
              "...              ...              ...  ...         ...\n",
              "9981  US-2017-165344  OFF-BI-10003196   10  right_only\n",
              "9982  US-2017-165358  TEC-CO-10001943    5  right_only\n",
              "9983  US-2017-167920  OFF-AP-10000159    5  right_only\n",
              "9984  US-2017-169502  OFF-AP-10001947    5  right_only\n",
              "9985  US-2017-169551  FUR-BO-10001519    3  right_only\n",
              "\n",
              "[508 rows x 4 columns]"
            ]
          },
          "metadata": {},
          "execution_count": 11
        }
      ]
    },
    {
      "cell_type": "markdown",
      "metadata": {
        "id": "1qtzOVcecMu1"
      },
      "source": [
        "#### The number of records missing in data2 but present in data1 is 507."
      ]
    },
    {
      "cell_type": "code",
      "metadata": {
        "colab": {
          "base_uri": "https://localhost:8080/"
        },
        "id": "0IprV-S6csmr",
        "outputId": "06f3073f-0ec5-4b5d-f3d5-20caf5311f01"
      },
      "source": [
        "Right_only.shape"
      ],
      "execution_count": 12,
      "outputs": [
        {
          "output_type": "execute_result",
          "data": {
            "text/plain": [
              "(508, 4)"
            ]
          },
          "metadata": {},
          "execution_count": 12
        }
      ]
    },
    {
      "cell_type": "markdown",
      "metadata": {
        "id": "LyzDE9UEcLzj"
      },
      "source": [
        "#### 3) Find the Sum of the total Qty of Records missing in data1 but present in data2."
      ]
    },
    {
      "cell_type": "code",
      "metadata": {
        "colab": {
          "base_uri": "https://localhost:8080/"
        },
        "id": "YWo8m4sDclbb",
        "outputId": "ae39bf89-1afd-417e-b301-7d7b9408f520"
      },
      "source": [
        "Sum_of_the_total_Qty = Right_only.Qty.sum()\n",
        "Sum_of_the_total_Qty"
      ],
      "execution_count": 13,
      "outputs": [
        {
          "output_type": "execute_result",
          "data": {
            "text/plain": [
              "1956"
            ]
          },
          "metadata": {},
          "execution_count": 13
        }
      ]
    },
    {
      "cell_type": "markdown",
      "metadata": {
        "id": "WoaxG43NtLbb"
      },
      "source": [
        "#### The sum of total Qty is 1956."
      ]
    },
    {
      "cell_type": "markdown",
      "metadata": {
        "id": "l8LsVhKVdY-u"
      },
      "source": [
        "#### 4) Find the total number of unique records (Order ID + Product ID combination) present in the combined dataset of data1 and data2."
      ]
    },
    {
      "cell_type": "code",
      "metadata": {
        "colab": {
          "base_uri": "https://localhost:8080/",
          "height": 424
        },
        "id": "CORLIX__dYSZ",
        "outputId": "1828dac2-6bda-40fc-9e9d-86741d960524"
      },
      "source": [
        "Unique_value = A\n",
        "Unique_value"
      ],
      "execution_count": 14,
      "outputs": [
        {
          "output_type": "execute_result",
          "data": {
            "text/html": [
              "<div>\n",
              "<style scoped>\n",
              "    .dataframe tbody tr th:only-of-type {\n",
              "        vertical-align: middle;\n",
              "    }\n",
              "\n",
              "    .dataframe tbody tr th {\n",
              "        vertical-align: top;\n",
              "    }\n",
              "\n",
              "    .dataframe thead th {\n",
              "        text-align: right;\n",
              "    }\n",
              "</style>\n",
              "<table border=\"1\" class=\"dataframe\">\n",
              "  <thead>\n",
              "    <tr style=\"text-align: right;\">\n",
              "      <th></th>\n",
              "      <th>Order ID</th>\n",
              "      <th>Product ID</th>\n",
              "      <th>Qty</th>\n",
              "      <th>_merge</th>\n",
              "    </tr>\n",
              "  </thead>\n",
              "  <tbody>\n",
              "    <tr>\n",
              "      <th>0</th>\n",
              "      <td>CA-2014-100006</td>\n",
              "      <td>TEC-PH-10002075</td>\n",
              "      <td>3</td>\n",
              "      <td>left_only</td>\n",
              "    </tr>\n",
              "    <tr>\n",
              "      <th>1</th>\n",
              "      <td>CA-2014-100090</td>\n",
              "      <td>FUR-TA-10003715</td>\n",
              "      <td>3</td>\n",
              "      <td>both</td>\n",
              "    </tr>\n",
              "    <tr>\n",
              "      <th>2</th>\n",
              "      <td>CA-2014-100090</td>\n",
              "      <td>OFF-BI-10001597</td>\n",
              "      <td>6</td>\n",
              "      <td>both</td>\n",
              "    </tr>\n",
              "    <tr>\n",
              "      <th>3</th>\n",
              "      <td>CA-2014-100293</td>\n",
              "      <td>OFF-PA-10000176</td>\n",
              "      <td>6</td>\n",
              "      <td>both</td>\n",
              "    </tr>\n",
              "    <tr>\n",
              "      <th>4</th>\n",
              "      <td>CA-2014-100328</td>\n",
              "      <td>OFF-BI-10000343</td>\n",
              "      <td>1</td>\n",
              "      <td>both</td>\n",
              "    </tr>\n",
              "    <tr>\n",
              "      <th>...</th>\n",
              "      <td>...</td>\n",
              "      <td>...</td>\n",
              "      <td>...</td>\n",
              "      <td>...</td>\n",
              "    </tr>\n",
              "    <tr>\n",
              "      <th>9981</th>\n",
              "      <td>US-2017-165344</td>\n",
              "      <td>OFF-BI-10003196</td>\n",
              "      <td>10</td>\n",
              "      <td>right_only</td>\n",
              "    </tr>\n",
              "    <tr>\n",
              "      <th>9982</th>\n",
              "      <td>US-2017-165358</td>\n",
              "      <td>TEC-CO-10001943</td>\n",
              "      <td>5</td>\n",
              "      <td>right_only</td>\n",
              "    </tr>\n",
              "    <tr>\n",
              "      <th>9983</th>\n",
              "      <td>US-2017-167920</td>\n",
              "      <td>OFF-AP-10000159</td>\n",
              "      <td>5</td>\n",
              "      <td>right_only</td>\n",
              "    </tr>\n",
              "    <tr>\n",
              "      <th>9984</th>\n",
              "      <td>US-2017-169502</td>\n",
              "      <td>OFF-AP-10001947</td>\n",
              "      <td>5</td>\n",
              "      <td>right_only</td>\n",
              "    </tr>\n",
              "    <tr>\n",
              "      <th>9985</th>\n",
              "      <td>US-2017-169551</td>\n",
              "      <td>FUR-BO-10001519</td>\n",
              "      <td>3</td>\n",
              "      <td>right_only</td>\n",
              "    </tr>\n",
              "  </tbody>\n",
              "</table>\n",
              "<p>9986 rows × 4 columns</p>\n",
              "</div>"
            ],
            "text/plain": [
              "            Order ID       Product ID  Qty      _merge\n",
              "0     CA-2014-100006  TEC-PH-10002075    3   left_only\n",
              "1     CA-2014-100090  FUR-TA-10003715    3        both\n",
              "2     CA-2014-100090  OFF-BI-10001597    6        both\n",
              "3     CA-2014-100293  OFF-PA-10000176    6        both\n",
              "4     CA-2014-100328  OFF-BI-10000343    1        both\n",
              "...              ...              ...  ...         ...\n",
              "9981  US-2017-165344  OFF-BI-10003196   10  right_only\n",
              "9982  US-2017-165358  TEC-CO-10001943    5  right_only\n",
              "9983  US-2017-167920  OFF-AP-10000159    5  right_only\n",
              "9984  US-2017-169502  OFF-AP-10001947    5  right_only\n",
              "9985  US-2017-169551  FUR-BO-10001519    3  right_only\n",
              "\n",
              "[9986 rows x 4 columns]"
            ]
          },
          "metadata": {},
          "execution_count": 14
        }
      ]
    },
    {
      "cell_type": "code",
      "metadata": {
        "colab": {
          "base_uri": "https://localhost:8080/",
          "height": 206
        },
        "id": "DkVa1hVDtdrX",
        "outputId": "c6bf5f8a-cabe-4842-b368-3b1517636be3"
      },
      "source": [
        "Unique_value.head()"
      ],
      "execution_count": 15,
      "outputs": [
        {
          "output_type": "execute_result",
          "data": {
            "text/html": [
              "<div>\n",
              "<style scoped>\n",
              "    .dataframe tbody tr th:only-of-type {\n",
              "        vertical-align: middle;\n",
              "    }\n",
              "\n",
              "    .dataframe tbody tr th {\n",
              "        vertical-align: top;\n",
              "    }\n",
              "\n",
              "    .dataframe thead th {\n",
              "        text-align: right;\n",
              "    }\n",
              "</style>\n",
              "<table border=\"1\" class=\"dataframe\">\n",
              "  <thead>\n",
              "    <tr style=\"text-align: right;\">\n",
              "      <th></th>\n",
              "      <th>Order ID</th>\n",
              "      <th>Product ID</th>\n",
              "      <th>Qty</th>\n",
              "      <th>_merge</th>\n",
              "    </tr>\n",
              "  </thead>\n",
              "  <tbody>\n",
              "    <tr>\n",
              "      <th>0</th>\n",
              "      <td>CA-2014-100006</td>\n",
              "      <td>TEC-PH-10002075</td>\n",
              "      <td>3</td>\n",
              "      <td>left_only</td>\n",
              "    </tr>\n",
              "    <tr>\n",
              "      <th>1</th>\n",
              "      <td>CA-2014-100090</td>\n",
              "      <td>FUR-TA-10003715</td>\n",
              "      <td>3</td>\n",
              "      <td>both</td>\n",
              "    </tr>\n",
              "    <tr>\n",
              "      <th>2</th>\n",
              "      <td>CA-2014-100090</td>\n",
              "      <td>OFF-BI-10001597</td>\n",
              "      <td>6</td>\n",
              "      <td>both</td>\n",
              "    </tr>\n",
              "    <tr>\n",
              "      <th>3</th>\n",
              "      <td>CA-2014-100293</td>\n",
              "      <td>OFF-PA-10000176</td>\n",
              "      <td>6</td>\n",
              "      <td>both</td>\n",
              "    </tr>\n",
              "    <tr>\n",
              "      <th>4</th>\n",
              "      <td>CA-2014-100328</td>\n",
              "      <td>OFF-BI-10000343</td>\n",
              "      <td>1</td>\n",
              "      <td>both</td>\n",
              "    </tr>\n",
              "  </tbody>\n",
              "</table>\n",
              "</div>"
            ],
            "text/plain": [
              "         Order ID       Product ID  Qty     _merge\n",
              "0  CA-2014-100006  TEC-PH-10002075    3  left_only\n",
              "1  CA-2014-100090  FUR-TA-10003715    3       both\n",
              "2  CA-2014-100090  OFF-BI-10001597    6       both\n",
              "3  CA-2014-100293  OFF-PA-10000176    6       both\n",
              "4  CA-2014-100328  OFF-BI-10000343    1       both"
            ]
          },
          "metadata": {},
          "execution_count": 15
        }
      ]
    },
    {
      "cell_type": "code",
      "metadata": {
        "colab": {
          "base_uri": "https://localhost:8080/"
        },
        "id": "LRpTY2UitjEy",
        "outputId": "c2f50c0b-34c5-4c71-c3c5-d6f5a4346836"
      },
      "source": [
        "Unique_value.shape"
      ],
      "execution_count": 16,
      "outputs": [
        {
          "output_type": "execute_result",
          "data": {
            "text/plain": [
              "(9986, 4)"
            ]
          },
          "metadata": {},
          "execution_count": 16
        }
      ]
    },
    {
      "cell_type": "markdown",
      "metadata": {
        "id": "VBTHPVLbtIkz"
      },
      "source": [
        "Total number of unique values are 9986."
      ]
    }
  ]
}